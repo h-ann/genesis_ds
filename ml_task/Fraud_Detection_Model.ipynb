{
 "cells": [
  {
   "cell_type": "code",
   "execution_count": 1,
   "metadata": {},
   "outputs": [],
   "source": [
    "import pandas as pd\n",
    "import numpy as np\n",
    "import lightgbm as lgb\n",
    "\n",
    "from sklearn.model_selection import train_test_split\n",
    "from sklearn.model_selection import GridSearchCV\n",
    "from sklearn.model_selection import StratifiedKFold\n",
    "from sklearn.metrics import classification_report, precision_recall_fscore_support\n",
    "from sklearn.metrics import roc_curve, auc, cohen_kappa_score\n",
    "from sklearn.preprocessing import StandardScaler\n",
    "from sklearn.linear_model import LogisticRegression\n",
    "from sklearn.ensemble import VotingClassifier\n",
    "from sklearn.pipeline import Pipeline\n",
    "\n",
    "from scipy.misc import derivative\n",
    "\n",
    "import matplotlib.pyplot as plt\n",
    "%matplotlib inline"
   ]
  },
  {
   "cell_type": "code",
   "execution_count": 2,
   "metadata": {},
   "outputs": [],
   "source": [
    "pd.options.mode.chained_assignment = None  # default='warn'"
   ]
  },
  {
   "cell_type": "markdown",
   "metadata": {},
   "source": [
    "***some notes***\n",
    "\n",
    "I've also tried next techniques, like\n",
    "- under and oversampling (like SMOTE, ADASYN, ..)\n",
    "- as well as dimensionality reduction (PCA)\n",
    "- as well as feature selection (SelectKBest by chi2)\n",
    "- as well as removing outliers (with IsolationForest)\n",
    "\n",
    "but they didn't improve the quality of this specific model"
   ]
  },
  {
   "cell_type": "code",
   "execution_count": 3,
   "metadata": {},
   "outputs": [],
   "source": [
    "def scale_train_test(x_train, x_test, scaler, columns_to_scale):\n",
    "    # fit standard scaler only on train data\n",
    "    scaler.fit(x_train[columns_to_scale])\n",
    "\n",
    "    # transform train and test columns with scaler\n",
    "    x_train_scaled = scaler.transform(x_train[columns_to_scale])\n",
    "    x_test_scaled = scaler.transform(x_test[columns_to_scale])\n",
    "\n",
    "    # update x values with transformed ones\n",
    "    x_train.loc[:,columns_to_scale] = x_train_scaled\n",
    "    x_test.loc[:,columns_to_scale] = x_test_scaled\n",
    "\n",
    "    return x_train, x_test"
   ]
  },
  {
   "cell_type": "markdown",
   "metadata": {},
   "source": [
    "# read data"
   ]
  },
  {
   "cell_type": "code",
   "execution_count": 4,
   "metadata": {},
   "outputs": [
    {
     "data": {
      "text/html": [
       "<div>\n",
       "<style scoped>\n",
       "    .dataframe tbody tr th:only-of-type {\n",
       "        vertical-align: middle;\n",
       "    }\n",
       "\n",
       "    .dataframe tbody tr th {\n",
       "        vertical-align: top;\n",
       "    }\n",
       "\n",
       "    .dataframe thead th {\n",
       "        text-align: right;\n",
       "    }\n",
       "</style>\n",
       "<table border=\"1\" class=\"dataframe\">\n",
       "  <thead>\n",
       "    <tr style=\"text-align: right;\">\n",
       "      <th></th>\n",
       "      <th>is_fraud</th>\n",
       "      <th>transaction_amount</th>\n",
       "      <th>relative_timestamp</th>\n",
       "      <th>F1</th>\n",
       "      <th>F2</th>\n",
       "      <th>F3</th>\n",
       "      <th>F4</th>\n",
       "      <th>F5</th>\n",
       "      <th>F6</th>\n",
       "      <th>F7</th>\n",
       "      <th>...</th>\n",
       "      <th>F21</th>\n",
       "      <th>F22</th>\n",
       "      <th>F23</th>\n",
       "      <th>F24</th>\n",
       "      <th>F25</th>\n",
       "      <th>F26</th>\n",
       "      <th>F27</th>\n",
       "      <th>F28</th>\n",
       "      <th>F29</th>\n",
       "      <th>F30</th>\n",
       "    </tr>\n",
       "  </thead>\n",
       "  <tbody>\n",
       "    <tr>\n",
       "      <th>0</th>\n",
       "      <td>0</td>\n",
       "      <td>118.44</td>\n",
       "      <td>159609.0</td>\n",
       "      <td>1.928977</td>\n",
       "      <td>-0.745709</td>\n",
       "      <td>-1.742981</td>\n",
       "      <td>-0.247731</td>\n",
       "      <td>-0.379232</td>\n",
       "      <td>-1.504379</td>\n",
       "      <td>0.426988</td>\n",
       "      <td>...</td>\n",
       "      <td>-0.096171</td>\n",
       "      <td>0.153526</td>\n",
       "      <td>-0.001283</td>\n",
       "      <td>0.631590</td>\n",
       "      <td>0.130582</td>\n",
       "      <td>0.758711</td>\n",
       "      <td>-0.113741</td>\n",
       "      <td>-0.063939</td>\n",
       "      <td>0.795595</td>\n",
       "      <td>-2.200074</td>\n",
       "    </tr>\n",
       "    <tr>\n",
       "      <th>1</th>\n",
       "      <td>0</td>\n",
       "      <td>1.98</td>\n",
       "      <td>162525.0</td>\n",
       "      <td>2.060450</td>\n",
       "      <td>-0.136926</td>\n",
       "      <td>-1.085910</td>\n",
       "      <td>0.430300</td>\n",
       "      <td>-0.254977</td>\n",
       "      <td>-1.247417</td>\n",
       "      <td>0.104193</td>\n",
       "      <td>...</td>\n",
       "      <td>-0.302288</td>\n",
       "      <td>-0.795267</td>\n",
       "      <td>0.355477</td>\n",
       "      <td>0.013651</td>\n",
       "      <td>-0.340015</td>\n",
       "      <td>0.199361</td>\n",
       "      <td>-0.078557</td>\n",
       "      <td>-0.062377</td>\n",
       "      <td>0.921937</td>\n",
       "      <td>0.216959</td>\n",
       "    </tr>\n",
       "    <tr>\n",
       "      <th>2</th>\n",
       "      <td>0</td>\n",
       "      <td>103.00</td>\n",
       "      <td>58956.0</td>\n",
       "      <td>1.114014</td>\n",
       "      <td>-1.533296</td>\n",
       "      <td>0.741385</td>\n",
       "      <td>-1.385897</td>\n",
       "      <td>-1.241643</td>\n",
       "      <td>1.088519</td>\n",
       "      <td>-1.433041</td>\n",
       "      <td>...</td>\n",
       "      <td>0.140363</td>\n",
       "      <td>0.783574</td>\n",
       "      <td>0.082555</td>\n",
       "      <td>-0.615175</td>\n",
       "      <td>-0.036441</td>\n",
       "      <td>-0.006456</td>\n",
       "      <td>0.109368</td>\n",
       "      <td>0.032635</td>\n",
       "      <td>0.225000</td>\n",
       "      <td>-2.467540</td>\n",
       "    </tr>\n",
       "    <tr>\n",
       "      <th>3</th>\n",
       "      <td>0</td>\n",
       "      <td>16.70</td>\n",
       "      <td>148842.0</td>\n",
       "      <td>0.514410</td>\n",
       "      <td>1.389934</td>\n",
       "      <td>-1.091181</td>\n",
       "      <td>1.604760</td>\n",
       "      <td>0.460984</td>\n",
       "      <td>-0.381953</td>\n",
       "      <td>-0.599145</td>\n",
       "      <td>...</td>\n",
       "      <td>-1.670931</td>\n",
       "      <td>-0.854670</td>\n",
       "      <td>0.130428</td>\n",
       "      <td>0.789378</td>\n",
       "      <td>0.909599</td>\n",
       "      <td>-0.692159</td>\n",
       "      <td>-0.033316</td>\n",
       "      <td>0.096833</td>\n",
       "      <td>0.586722</td>\n",
       "      <td>1.187643</td>\n",
       "    </tr>\n",
       "    <tr>\n",
       "      <th>4</th>\n",
       "      <td>0</td>\n",
       "      <td>110.14</td>\n",
       "      <td>125542.0</td>\n",
       "      <td>-0.849330</td>\n",
       "      <td>0.399191</td>\n",
       "      <td>-0.319642</td>\n",
       "      <td>-1.220384</td>\n",
       "      <td>1.062371</td>\n",
       "      <td>1.752440</td>\n",
       "      <td>0.558836</td>\n",
       "      <td>...</td>\n",
       "      <td>0.134113</td>\n",
       "      <td>0.278606</td>\n",
       "      <td>0.198983</td>\n",
       "      <td>-0.936208</td>\n",
       "      <td>-0.477630</td>\n",
       "      <td>-0.087217</td>\n",
       "      <td>0.035566</td>\n",
       "      <td>0.090183</td>\n",
       "      <td>0.569712</td>\n",
       "      <td>-1.485808</td>\n",
       "    </tr>\n",
       "  </tbody>\n",
       "</table>\n",
       "<p>5 rows × 33 columns</p>\n",
       "</div>"
      ],
      "text/plain": [
       "   is_fraud  transaction_amount  relative_timestamp        F1        F2  \\\n",
       "0         0              118.44            159609.0  1.928977 -0.745709   \n",
       "1         0                1.98            162525.0  2.060450 -0.136926   \n",
       "2         0              103.00             58956.0  1.114014 -1.533296   \n",
       "3         0               16.70            148842.0  0.514410  1.389934   \n",
       "4         0              110.14            125542.0 -0.849330  0.399191   \n",
       "\n",
       "         F3        F4        F5        F6        F7  ...       F21       F22  \\\n",
       "0 -1.742981 -0.247731 -0.379232 -1.504379  0.426988  ... -0.096171  0.153526   \n",
       "1 -1.085910  0.430300 -0.254977 -1.247417  0.104193  ... -0.302288 -0.795267   \n",
       "2  0.741385 -1.385897 -1.241643  1.088519 -1.433041  ...  0.140363  0.783574   \n",
       "3 -1.091181  1.604760  0.460984 -0.381953 -0.599145  ... -1.670931 -0.854670   \n",
       "4 -0.319642 -1.220384  1.062371  1.752440  0.558836  ...  0.134113  0.278606   \n",
       "\n",
       "        F23       F24       F25       F26       F27       F28       F29  \\\n",
       "0 -0.001283  0.631590  0.130582  0.758711 -0.113741 -0.063939  0.795595   \n",
       "1  0.355477  0.013651 -0.340015  0.199361 -0.078557 -0.062377  0.921937   \n",
       "2  0.082555 -0.615175 -0.036441 -0.006456  0.109368  0.032635  0.225000   \n",
       "3  0.130428  0.789378  0.909599 -0.692159 -0.033316  0.096833  0.586722   \n",
       "4  0.198983 -0.936208 -0.477630 -0.087217  0.035566  0.090183  0.569712   \n",
       "\n",
       "        F30  \n",
       "0 -2.200074  \n",
       "1  0.216959  \n",
       "2 -2.467540  \n",
       "3  1.187643  \n",
       "4 -1.485808  \n",
       "\n",
       "[5 rows x 33 columns]"
      ]
     },
     "execution_count": 4,
     "metadata": {},
     "output_type": "execute_result"
    }
   ],
   "source": [
    "# read data\n",
    "df_path = './data/df.csv'\n",
    "df = pd.read_csv(df_path)\n",
    "df.head()"
   ]
  },
  {
   "cell_type": "code",
   "execution_count": 5,
   "metadata": {},
   "outputs": [],
   "source": [
    "# split on features and target \n",
    "X = df.drop('is_fraud', axis=1)\n",
    "Y = df['is_fraud']\n",
    "\n",
    "# columns F29 and F30 have missing values, fill na with mean\n",
    "X.fillna(X.mean(), inplace=True)"
   ]
  },
  {
   "cell_type": "markdown",
   "metadata": {},
   "source": [
    "# focal loss\n",
    "Focal loss was designed for object detection purpose, where there is  extreme foreground-background class imbalance.\n",
    "\n",
    "https://arxiv.org/pdf/1708.02002.pdf\n",
    "\n",
    "inspired by https://towardsdatascience.com/lightgbm-with-the-focal-loss-for-imbalanced-datasets-9836a9ae00ca"
   ]
  },
  {
   "cell_type": "code",
   "execution_count": 6,
   "metadata": {},
   "outputs": [],
   "source": [
    "def focal_loss_lgb(y_true, y_pred, alpha, gamma):\n",
    "    a,g = alpha, gamma\n",
    "    def fl(x,t):\n",
    "        p = 1/(1+np.exp(-x))\n",
    "        return -( a*t + (1-a)*(1-t) ) * (( 1 - ( t*p + (1-t)*(1-p)) )**g) * ( t*np.log(p) + (1-t)*np.log(1-p) )\n",
    "    partial_fl = lambda x: fl(x, y_true)\n",
    "    grad = derivative(partial_fl, y_pred, n=1, dx=1e-6)\n",
    "    hess = derivative(partial_fl, y_pred, n=2, dx=1e-6)\n",
    "    return grad, hess\n",
    "\n",
    "def focal_loss_lgb_eval_error(y_true, y_pred, alpha, gamma):\n",
    "    a,g = alpha, gamma\n",
    "    p = 1/(1+np.exp(-y_pred))\n",
    "    loss = -( a*y_true + (1-a)*(1-y_true) ) * (( 1 - ( y_true*p + (1-y_true)*(1-p)) )**g) * ( y_true*np.log(p)+(1-y_true)*np.log(1-p) )\n",
    "    return 'focal_loss', np.mean(loss), False\n",
    "\n",
    "\n",
    "alpha=0.25\n",
    "gamma=1.\n",
    "\n",
    "focal_loss = lambda x,y: focal_loss_lgb(x, y, alpha=alpha, gamma=gamma)\n",
    "focal_loss_eval = lambda x,y: focal_loss_lgb_eval_error(x, y, alpha=alpha, gamma=gamma)\n",
    "\n",
    "def sigmoid(x): return 1./(1. +  np.exp(-x))\n",
    "\n",
    "\n",
    "class FocalLGBMClassifier(lgb.LGBMClassifier):\n",
    "    \n",
    "    def predict_proba(self, *args, **kwargs):\n",
    "        \"\"\"Redefining predict_proba(), because when using custom loss function, \n",
    "        the raw predictions are not passed through a sigmoid to represent probabilitie\n",
    "        \"\"\"\n",
    "        result = super().predict_proba(*args, **kwargs)\n",
    "        return sigmoid(result)"
   ]
  },
  {
   "cell_type": "code",
   "execution_count": 7,
   "metadata": {
    "scrolled": true
   },
   "outputs": [],
   "source": [
    "# LGBMClassifier with focal loss\n",
    "skf = StratifiedKFold(n_splits=5, shuffle=True, random_state=123)\n",
    "f1_scores = []\n",
    "scores = []\n",
    "for train_index, test_index in skf.split(X, Y):\n",
    "    x_train, x_test = X.loc[train_index], X.loc[test_index]\n",
    "    y_train, y_test = Y.loc[train_index], Y.loc[test_index]\n",
    "    \n",
    "    # scale features\n",
    "    scaler = StandardScaler()\n",
    "    columns_to_scale = ['transaction_amount','relative_timestamp']\n",
    "    x_train, x_test = scale_train_test(x_train, x_test, scaler, columns_to_scale)\n",
    "    \n",
    "    # train a model\n",
    "    model = FocalLGBMClassifier(\n",
    "        num_leaves = 70,\n",
    "        n_estimators = 100,\n",
    "        random_state = 42,\n",
    "        class_weight='balanced', \n",
    "        objective = focal_loss) # or objective='binary' \n",
    "\n",
    "    model.fit(x_train, y_train)\n",
    "    y_pred = model.predict(x_test)\n",
    "    p, r, f1, _ = precision_recall_fscore_support(y_test, y_pred, average='binary')\n",
    "    f1_scores.append(f1)\n",
    "    scores.append((p, r, f1))"
   ]
  },
  {
   "cell_type": "code",
   "execution_count": 8,
   "metadata": {
    "scrolled": true
   },
   "outputs": [
    {
     "name": "stdout",
     "output_type": "stream",
     "text": [
      "0.86\n"
     ]
    },
    {
     "data": {
      "text/plain": [
       "[(0.9058823529411765, 0.7777777777777778, 0.8369565217391305),\n",
       " (0.9058823529411765, 0.7777777777777778, 0.8369565217391305),\n",
       " (0.9512195121951219, 0.7959183673469388, 0.8666666666666666),\n",
       " (0.9753086419753086, 0.8061224489795918, 0.88268156424581),\n",
       " (0.9021739130434783, 0.8469387755102041, 0.8736842105263158)]"
      ]
     },
     "execution_count": 8,
     "metadata": {},
     "output_type": "execute_result"
    }
   ],
   "source": [
    "print(round(np.mean(f1_scores),2))\n",
    "scores"
   ]
  },
  {
   "cell_type": "markdown",
   "metadata": {},
   "source": [
    "# remove outliers "
   ]
  },
  {
   "cell_type": "code",
   "execution_count": 9,
   "metadata": {},
   "outputs": [],
   "source": [
    "class OutliersTransformer():    \n",
    "    def __init__(self, features, coef=3):\n",
    "        self.features = features\n",
    "        self.coef = coef\n",
    "        self.boundaries = {}\n",
    "        \n",
    "    def fit(self, x, y):\n",
    "        # define upper and lower boundaries for each feature \n",
    "        # by non-fraud transactions only\n",
    "        for f in self.features:        \n",
    "            x_0 = x[y == 0]\n",
    "            lower, upper = self.iqr_outliers_boundaries(x_0[f], self.coef)\n",
    "            self.boundaries[f]=(lower, upper)\n",
    "        return self\n",
    "    \n",
    "    def transform(self, x, y=None):   \n",
    "        # update outliers values\n",
    "        # at non-fraud transactions only\n",
    "        if y is not None:\n",
    "            for f in self.features: \n",
    "                lower, upper = self.boundaries[f]\n",
    "                x_0 = x[y == 0]\n",
    "                update_index = x.loc[x_0.index].loc[(x[f]<lower)|(x[f]>upper)].index\n",
    "                x.loc[update_index, f] = (lower + upper) / 2\n",
    "        return x\n",
    "    \n",
    "    def iqr_outliers_boundaries(self, data, coef=3):\n",
    "        # calculate interquartile range\n",
    "        q25, q75 = np.percentile(data, 25), np.percentile(data, 75)\n",
    "        iqr = q75 - q25\n",
    "\n",
    "        # calculate the outlier cutoff\n",
    "        cut_off = iqr * coef\n",
    "        lower, upper = q25 - cut_off, q75 + cut_off\n",
    "        return lower, upper"
   ]
  },
  {
   "cell_type": "markdown",
   "metadata": {},
   "source": [
    "# ensemble \n",
    "- LGBMClassifier + focal loss \n",
    "- LogisticRegression + remove ouliers"
   ]
  },
  {
   "cell_type": "code",
   "execution_count": 10,
   "metadata": {},
   "outputs": [],
   "source": [
    "# Soft Voting Classifier\n",
    "skf = StratifiedKFold(n_splits=5, shuffle=True, random_state=123)\n",
    "f1_scores = []\n",
    "scores = []\n",
    "for train_index, test_index in skf.split(X, Y):\n",
    "    x_train, x_test = X.loc[train_index], X.loc[test_index]\n",
    "    y_train, y_test = Y.loc[train_index], Y.loc[test_index]\n",
    "    \n",
    "    # scale features\n",
    "    scaler = StandardScaler()\n",
    "    columns_to_scale = ['transaction_amount','relative_timestamp']\n",
    "    x_train, x_test = scale_train_test(x_train, x_test, scaler, columns_to_scale)\n",
    "    \n",
    "    # build and train the model\n",
    "    clf1 = FocalLGBMClassifier(\n",
    "        num_leaves = 70,\n",
    "        n_estimators = 100,\n",
    "        random_state = 42,\n",
    "        class_weight='balanced', \n",
    "        objective = focal_loss)\n",
    "    \n",
    "    corr_features = ['F4', 'F10', 'F11', 'F12', 'F14']\n",
    "    clf2 = Pipeline(steps=[('outliers', OutliersTransformer(corr_features, 3)),\n",
    "                           ('model', LogisticRegression())])\n",
    "    \n",
    "    voting = VotingClassifier(estimators=[('lgb', clf1), ('lr', clf2)], voting='soft', weights=(0.9,0.1))\n",
    "    voting = voting.fit(x_train, y_train)\n",
    "    \n",
    "    # make prediction\n",
    "    y_pred = voting.predict(x_test)\n",
    "    \n",
    "    # evaluate the quality\n",
    "    p, r, f1, _ = precision_recall_fscore_support(y_test, y_pred, average='binary')\n",
    "    f1_scores.append(f1)\n",
    "    scores.append((p, r, f1))"
   ]
  },
  {
   "cell_type": "code",
   "execution_count": 11,
   "metadata": {
    "scrolled": true
   },
   "outputs": [
    {
     "name": "stdout",
     "output_type": "stream",
     "text": [
      "0.86\n"
     ]
    },
    {
     "data": {
      "text/plain": [
       "[(0.9294117647058824, 0.797979797979798, 0.8586956521739131),\n",
       " (0.9285714285714286, 0.7878787878787878, 0.8524590163934426),\n",
       " (0.9629629629629629, 0.7959183673469388, 0.871508379888268),\n",
       " (0.9625, 0.7857142857142857, 0.8651685393258427),\n",
       " (0.9111111111111111, 0.8367346938775511, 0.8723404255319148)]"
      ]
     },
     "execution_count": 11,
     "metadata": {},
     "output_type": "execute_result"
    }
   ],
   "source": [
    "print(round(np.mean(f1_scores),2))\n",
    "scores"
   ]
  },
  {
   "cell_type": "markdown",
   "metadata": {},
   "source": [
    "# model parameters estimation"
   ]
  },
  {
   "cell_type": "code",
   "execution_count": 12,
   "metadata": {},
   "outputs": [],
   "source": [
    "x_train, x_test, y_train, y_test = train_test_split(X, Y, test_size=0.2, random_state=13, stratify=Y)"
   ]
  },
  {
   "cell_type": "code",
   "execution_count": 13,
   "metadata": {},
   "outputs": [],
   "source": [
    "# scale features\n",
    "scaler = StandardScaler()\n",
    "columns_to_scale = ['transaction_amount','relative_timestamp']\n",
    "x_train, x_test = scale_train_test(x_train, x_test, scaler, columns_to_scale)\n",
    "    \n",
    "# build the model\n",
    "clf1 = FocalLGBMClassifier(\n",
    "        random_state = 42,\n",
    "        class_weight='balanced', \n",
    "        objective = focal_loss)\n",
    "    \n",
    "corr_features = ['F4', 'F10', 'F11', 'F12', 'F14']\n",
    "clf2 = Pipeline(steps=[('outliers', OutliersTransformer(corr_features, 3)),\n",
    "                           ('model', LogisticRegression())])\n",
    "    \n",
    "voting = VotingClassifier(estimators=[('lgb', clf1), ('lr', clf2)], voting='soft', weights=(0.9,0.1))"
   ]
  },
  {
   "cell_type": "code",
   "execution_count": 14,
   "metadata": {},
   "outputs": [
    {
     "data": {
      "text/plain": [
       "dict_keys(['memory', 'steps', 'verbose', 'outliers', 'model', 'model__C', 'model__class_weight', 'model__dual', 'model__fit_intercept', 'model__intercept_scaling', 'model__l1_ratio', 'model__max_iter', 'model__multi_class', 'model__n_jobs', 'model__penalty', 'model__random_state', 'model__solver', 'model__tol', 'model__verbose', 'model__warm_start'])"
      ]
     },
     "execution_count": 14,
     "metadata": {},
     "output_type": "execute_result"
    }
   ],
   "source": [
    "clf2.get_params().keys()"
   ]
  },
  {
   "cell_type": "code",
   "execution_count": 15,
   "metadata": {},
   "outputs": [
    {
     "data": {
      "text/plain": [
       "dict_keys(['boosting_type', 'class_weight', 'colsample_bytree', 'importance_type', 'learning_rate', 'max_depth', 'min_child_samples', 'min_child_weight', 'min_split_gain', 'n_estimators', 'n_jobs', 'num_leaves', 'objective', 'random_state', 'reg_alpha', 'reg_lambda', 'silent', 'subsample', 'subsample_for_bin', 'subsample_freq'])"
      ]
     },
     "execution_count": 15,
     "metadata": {},
     "output_type": "execute_result"
    }
   ],
   "source": [
    "clf1.get_params().keys()"
   ]
  },
  {
   "cell_type": "code",
   "execution_count": 16,
   "metadata": {},
   "outputs": [],
   "source": [
    "# define grid search model parameters\n",
    "grid_params = {'lr__model__C' : [0.5,1,1.5], \n",
    "               'lr__model__penalty': ['l1', 'l2'],\n",
    "               'lgb__n_estimators':[100,150], \n",
    "               'lgb__num_leaves':[30,70]}\n",
    "grid = GridSearchCV(estimator=voting, param_grid=grid_params, cv=2, scoring='f1_weighted', n_jobs=-1)\n",
    "grid = grid.fit(x_train, y_train)\n",
    "\n",
    "# model with best parameters\n",
    "estimator = grid.best_estimator_"
   ]
  },
  {
   "cell_type": "code",
   "execution_count": 17,
   "metadata": {},
   "outputs": [],
   "source": [
    "# print(estimator.get_params())"
   ]
  },
  {
   "cell_type": "code",
   "execution_count": 18,
   "metadata": {},
   "outputs": [],
   "source": [
    "# train model\n",
    "estimator = estimator.fit(x_train, y_train)\n",
    "\n",
    "# make prediction\n",
    "y_pred = estimator.predict(x_test)\n",
    "y_scores = estimator.predict_proba(x_test)"
   ]
  },
  {
   "cell_type": "markdown",
   "metadata": {},
   "source": [
    "# metrics and curve"
   ]
  },
  {
   "cell_type": "code",
   "execution_count": 19,
   "metadata": {
    "scrolled": true
   },
   "outputs": [
    {
     "data": {
      "image/png": "[encoded data removed]",
      "text/plain": [
       "<Figure size 432x288 with 1 Axes>"
      ]
     },
     "metadata": {},
     "output_type": "display_data"
    }
   ],
   "source": [
    "# evaluate the quality\n",
    "p, r, f1, _ = precision_recall_fscore_support(y_test, y_pred, average='binary')\n",
    "\n",
    "# check roc_curve \n",
    "fpr, tpr, thresholds = roc_curve(y_test, y_scores[:,1])\n",
    "roc_auc = auc(fpr,tpr)\n",
    "\n",
    "# plot ROC\n",
    "plt.title('Receiver Operating Characteristic')\n",
    "plt.plot(fpr, tpr, 'b',label='AUC = %0.2f'% roc_auc)\n",
    "plt.legend(loc='lower right')\n",
    "plt.plot([0,1],[0,1],'r--')\n",
    "plt.xlim([-0.1,1.0])\n",
    "plt.ylim([-0.1,1.01])\n",
    "plt.ylabel('True Positive Rate')\n",
    "plt.xlabel('False Positive Rate')\n",
    "plt.show()"
   ]
  },
  {
   "cell_type": "code",
   "execution_count": 20,
   "metadata": {},
   "outputs": [
    {
     "name": "stdout",
     "output_type": "stream",
     "text": [
      "              precision    recall  f1-score   support\n",
      "\n",
      "           0       1.00      1.00      1.00     56864\n",
      "           1       0.98      0.82      0.89        98\n",
      "\n",
      "    accuracy                           1.00     56962\n",
      "   macro avg       0.99      0.91      0.94     56962\n",
      "weighted avg       1.00      1.00      1.00     56962\n",
      "\n"
     ]
    }
   ],
   "source": [
    "print(classification_report(y_test, y_pred))"
   ]
  },
  {
   "cell_type": "code",
   "execution_count": 23,
   "metadata": {},
   "outputs": [
    {
     "name": "stdout",
     "output_type": "stream",
     "text": [
      "Cohen’s kappa coefficient is 0.89\n"
     ]
    }
   ],
   "source": [
    "coef = cohen_kappa_score(y_test, y_pred)\n",
    "print(f\"Cohen’s kappa coefficient is {coef:.2f}\" )"
   ]
  },
  {
   "cell_type": "code",
   "execution_count": null,
   "metadata": {},
   "outputs": [],
   "source": []
  }
 ],
 "metadata": {
  "kernelspec": {
   "display_name": "Python 3",
   "language": "python",
   "name": "python3"
  },
  "language_info": {
   "codemirror_mode": {
    "name": "ipython",
    "version": 3
   },
   "file_extension": ".py",
   "mimetype": "text/x-python",
   "name": "python",
   "nbconvert_exporter": "python",
   "pygments_lexer": "ipython3",
   "version": "3.6.9"
  }
 },
 "nbformat": 4,
 "nbformat_minor": 2
}
